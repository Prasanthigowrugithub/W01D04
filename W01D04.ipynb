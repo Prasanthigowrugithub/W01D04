{
 "cells": [
  {
   "cell_type": "markdown",
   "id": "f401a962",
   "metadata": {},
   "source": [
    "### Arthematic operators"
   ]
  },
  {
   "cell_type": "code",
   "execution_count": 11,
   "id": "6eb2ee06",
   "metadata": {},
   "outputs": [],
   "source": [
    "a=5\n",
    "b=10"
   ]
  },
  {
   "cell_type": "code",
   "execution_count": 12,
   "id": "41bbe2d0",
   "metadata": {},
   "outputs": [
    {
     "name": "stdout",
     "output_type": "stream",
     "text": [
      "a+b= 15\n"
     ]
    }
   ],
   "source": [
    "add= a+b\n",
    "print(\"a+b=\",add)"
   ]
  },
  {
   "cell_type": "code",
   "execution_count": 14,
   "id": "9a7421dd",
   "metadata": {},
   "outputs": [
    {
     "name": "stdout",
     "output_type": "stream",
     "text": [
      "a*b= 50\n"
     ]
    }
   ],
   "source": [
    "mul = a*b\n",
    "print(\"a*b=\",mul)"
   ]
  },
  {
   "cell_type": "code",
   "execution_count": 15,
   "id": "8818f836",
   "metadata": {},
   "outputs": [
    {
     "name": "stdout",
     "output_type": "stream",
     "text": [
      "a-b= -5\n"
     ]
    }
   ],
   "source": [
    "sub = a-b\n",
    "print(\"a-b=\",sub)"
   ]
  },
  {
   "cell_type": "code",
   "execution_count": 16,
   "id": "fba18306",
   "metadata": {},
   "outputs": [
    {
     "name": "stdout",
     "output_type": "stream",
     "text": [
      "a/b= 0.5\n"
     ]
    }
   ],
   "source": [
    "div = a/b\n",
    "print(\"a/b=\",div)"
   ]
  },
  {
   "cell_type": "code",
   "execution_count": 27,
   "id": "82a19660",
   "metadata": {
    "scrolled": true
   },
   "outputs": [
    {
     "name": "stdout",
     "output_type": "stream",
     "text": [
      "0\n"
     ]
    }
   ],
   "source": [
    "print(27%3)"
   ]
  },
  {
   "cell_type": "code",
   "execution_count": 34,
   "id": "6363bd57",
   "metadata": {},
   "outputs": [
    {
     "name": "stdout",
     "output_type": "stream",
     "text": [
      "16\n"
     ]
    }
   ],
   "source": [
    "print(2**4)"
   ]
  },
  {
   "cell_type": "code",
   "execution_count": 33,
   "id": "5aa12446",
   "metadata": {},
   "outputs": [
    {
     "name": "stdout",
     "output_type": "stream",
     "text": [
      "10\n"
     ]
    }
   ],
   "source": [
    "print(50//5)"
   ]
  },
  {
   "cell_type": "markdown",
   "id": "214ca190",
   "metadata": {},
   "source": [
    "### Comparison operaters"
   ]
  },
  {
   "cell_type": "code",
   "execution_count": 35,
   "id": "89618155",
   "metadata": {},
   "outputs": [
    {
     "name": "stdout",
     "output_type": "stream",
     "text": [
      "5 > 10 = False\n"
     ]
    }
   ],
   "source": [
    "a=5\n",
    "b=10\n",
    "print(a,\">\",b,\"=\",a>b)"
   ]
  },
  {
   "cell_type": "code",
   "execution_count": 36,
   "id": "2a5bcac5",
   "metadata": {},
   "outputs": [
    {
     "name": "stdout",
     "output_type": "stream",
     "text": [
      "5 == 10 = False\n"
     ]
    }
   ],
   "source": [
    "a=5\n",
    "b=10\n",
    "print(a,\"==\",b,\"=\",a==b)"
   ]
  },
  {
   "cell_type": "code",
   "execution_count": 37,
   "id": "6db8c87a",
   "metadata": {},
   "outputs": [
    {
     "name": "stdout",
     "output_type": "stream",
     "text": [
      "Prasanthi == Prashu = False\n"
     ]
    }
   ],
   "source": [
    "a=\"Prasanthi\"\n",
    "b=\"Prashu\"\n",
    "print(a,\"==\",b,\"=\",a==b)"
   ]
  },
  {
   "cell_type": "code",
   "execution_count": 38,
   "id": "fc3e5064",
   "metadata": {},
   "outputs": [
    {
     "data": {
      "text/plain": [
       "True"
      ]
     },
     "execution_count": 38,
     "metadata": {},
     "output_type": "execute_result"
    }
   ],
   "source": [
    "a=5\n",
    "b=10\n",
    "a!=b"
   ]
  },
  {
   "cell_type": "markdown",
   "id": "da11da55",
   "metadata": {},
   "source": [
    "### Logical operators"
   ]
  },
  {
   "cell_type": "code",
   "execution_count": 39,
   "id": "97270d80",
   "metadata": {},
   "outputs": [],
   "source": [
    "a=30\n",
    "b=40\n",
    "c=50"
   ]
  },
  {
   "cell_type": "code",
   "execution_count": 40,
   "id": "9123ad0c",
   "metadata": {},
   "outputs": [
    {
     "data": {
      "text/plain": [
       "True"
      ]
     },
     "execution_count": 40,
     "metadata": {},
     "output_type": "execute_result"
    }
   ],
   "source": [
    "c>a"
   ]
  },
  {
   "cell_type": "code",
   "execution_count": 41,
   "id": "7cc8ba4e",
   "metadata": {},
   "outputs": [
    {
     "data": {
      "text/plain": [
       "True"
      ]
     },
     "execution_count": 41,
     "metadata": {},
     "output_type": "execute_result"
    }
   ],
   "source": [
    "c>b"
   ]
  },
  {
   "cell_type": "code",
   "execution_count": 42,
   "id": "28a51724",
   "metadata": {},
   "outputs": [
    {
     "data": {
      "text/plain": [
       "True"
      ]
     },
     "execution_count": 42,
     "metadata": {},
     "output_type": "execute_result"
    }
   ],
   "source": [
    "c>a and c>b"
   ]
  },
  {
   "cell_type": "code",
   "execution_count": 43,
   "id": "984de7ea",
   "metadata": {},
   "outputs": [
    {
     "name": "stdout",
     "output_type": "stream",
     "text": [
      "50>30 and 50>40\n"
     ]
    }
   ],
   "source": [
    "print(\"{0}>{1} and {2}>{3}\".format(c,a,c,b))"
   ]
  },
  {
   "cell_type": "code",
   "execution_count": 45,
   "id": "19b33cf5",
   "metadata": {},
   "outputs": [],
   "source": [
    "a=[5,6,7,8]\n",
    "b=a"
   ]
  },
  {
   "cell_type": "code",
   "execution_count": 46,
   "id": "0a5bf28b",
   "metadata": {},
   "outputs": [
    {
     "data": {
      "text/plain": [
       "3108568800320"
      ]
     },
     "execution_count": 46,
     "metadata": {},
     "output_type": "execute_result"
    }
   ],
   "source": [
    "id(b)"
   ]
  },
  {
   "cell_type": "code",
   "execution_count": 48,
   "id": "f20dcd10",
   "metadata": {},
   "outputs": [
    {
     "data": {
      "text/plain": [
       "3108568800320"
      ]
     },
     "execution_count": 48,
     "metadata": {},
     "output_type": "execute_result"
    }
   ],
   "source": [
    "id(a)"
   ]
  },
  {
   "cell_type": "code",
   "execution_count": 47,
   "id": "426c410d",
   "metadata": {},
   "outputs": [
    {
     "data": {
      "text/plain": [
       "True"
      ]
     },
     "execution_count": 47,
     "metadata": {},
     "output_type": "execute_result"
    }
   ],
   "source": [
    "a is b"
   ]
  },
  {
   "cell_type": "code",
   "execution_count": 49,
   "id": "cb26c8a9",
   "metadata": {},
   "outputs": [
    {
     "data": {
      "text/plain": [
       "True"
      ]
     },
     "execution_count": 49,
     "metadata": {},
     "output_type": "execute_result"
    }
   ],
   "source": [
    "a= int(\"10\")\n",
    "b= 10\n",
    "a==b"
   ]
  },
  {
   "cell_type": "code",
   "execution_count": 50,
   "id": "8cfe2001",
   "metadata": {},
   "outputs": [
    {
     "data": {
      "text/plain": [
       "True"
      ]
     },
     "execution_count": 50,
     "metadata": {},
     "output_type": "execute_result"
    }
   ],
   "source": [
    "a is b"
   ]
  },
  {
   "cell_type": "markdown",
   "id": "03cb1ab7",
   "metadata": {},
   "source": [
    "### Membership operators"
   ]
  },
  {
   "cell_type": "code",
   "execution_count": 51,
   "id": "52290736",
   "metadata": {},
   "outputs": [],
   "source": [
    "a=[3,6,9,8,5,2,4]"
   ]
  },
  {
   "cell_type": "code",
   "execution_count": 52,
   "id": "dde8a301",
   "metadata": {},
   "outputs": [],
   "source": [
    "b=5"
   ]
  },
  {
   "cell_type": "code",
   "execution_count": 53,
   "id": "c544edde",
   "metadata": {},
   "outputs": [
    {
     "data": {
      "text/plain": [
       "True"
      ]
     },
     "execution_count": 53,
     "metadata": {},
     "output_type": "execute_result"
    }
   ],
   "source": [
    "b in a"
   ]
  },
  {
   "cell_type": "code",
   "execution_count": 54,
   "id": "e4438136",
   "metadata": {},
   "outputs": [
    {
     "data": {
      "text/plain": [
       "False"
      ]
     },
     "execution_count": 54,
     "metadata": {},
     "output_type": "execute_result"
    }
   ],
   "source": [
    "b=10\n",
    "b in a"
   ]
  },
  {
   "cell_type": "code",
   "execution_count": 73,
   "id": "da1e54e0",
   "metadata": {},
   "outputs": [],
   "source": [
    "a=10"
   ]
  },
  {
   "cell_type": "code",
   "execution_count": 74,
   "id": "252de3ab",
   "metadata": {},
   "outputs": [
    {
     "data": {
      "text/plain": [
       "40"
      ]
     },
     "execution_count": 74,
     "metadata": {},
     "output_type": "execute_result"
    }
   ],
   "source": [
    "a<<2"
   ]
  },
  {
   "cell_type": "code",
   "execution_count": 75,
   "id": "e42678c7",
   "metadata": {
    "scrolled": true
   },
   "outputs": [
    {
     "data": {
      "text/plain": [
       "2"
      ]
     },
     "execution_count": 75,
     "metadata": {},
     "output_type": "execute_result"
    }
   ],
   "source": [
    "a>>2"
   ]
  },
  {
   "cell_type": "code",
   "execution_count": null,
   "id": "1cdaf57c",
   "metadata": {},
   "outputs": [],
   "source": []
  }
 ],
 "metadata": {
  "kernelspec": {
   "display_name": "Python 3 (ipykernel)",
   "language": "python",
   "name": "python3"
  },
  "language_info": {
   "codemirror_mode": {
    "name": "ipython",
    "version": 3
   },
   "file_extension": ".py",
   "mimetype": "text/x-python",
   "name": "python",
   "nbconvert_exporter": "python",
   "pygments_lexer": "ipython3",
   "version": "3.10.6"
  }
 },
 "nbformat": 4,
 "nbformat_minor": 5
}
